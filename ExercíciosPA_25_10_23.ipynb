{
  "nbformat": 4,
  "nbformat_minor": 0,
  "metadata": {
    "colab": {
      "provenance": [],
      "authorship_tag": "ABX9TyOIrff58Tey+ASN8tfbbBy5",
      "include_colab_link": true
    },
    "kernelspec": {
      "name": "python3",
      "display_name": "Python 3"
    },
    "language_info": {
      "name": "python"
    }
  },
  "cells": [
    {
      "cell_type": "markdown",
      "metadata": {
        "id": "view-in-github",
        "colab_type": "text"
      },
      "source": [
        "<a href=\"https://colab.research.google.com/github/GabrielCaspirro/Python/blob/main/Exerc%C3%ADciosPA_25_10_23.ipynb\" target=\"_parent\"><img src=\"https://colab.research.google.com/assets/colab-badge.svg\" alt=\"Open In Colab\"/></a>"
      ]
    },
    {
      "cell_type": "markdown",
      "source": [
        "Questão 1"
      ],
      "metadata": {
        "id": "J4zZ1xT8OLGo"
      }
    },
    {
      "cell_type": "code",
      "execution_count": 2,
      "metadata": {
        "colab": {
          "base_uri": "https://localhost:8080/"
        },
        "id": "bX7r_z34NzBt",
        "outputId": "7e98de62-d4b9-4da3-b441-f63065ff26e2"
      },
      "outputs": [
        {
          "output_type": "stream",
          "name": "stdout",
          "text": [
            "Digite o número inicial: 2\n",
            "Digite o número final: 30\n",
            "2\n",
            "3\n",
            "4\n",
            "5\n",
            "6\n",
            "7\n",
            "8\n",
            "9\n",
            "10\n",
            "11\n",
            "12\n",
            "13\n",
            "14\n",
            "15\n",
            "16\n",
            "17\n",
            "18\n",
            "19\n",
            "20\n",
            "21\n",
            "22\n",
            "23\n",
            "24\n",
            "25\n",
            "26\n",
            "27\n",
            "28\n",
            "29\n"
          ]
        }
      ],
      "source": [
        "num1 = int(input(\"Digite o número inicial: \"));\n",
        "num2 = int(input(\"Digite o número final: \"));\n",
        "for i in range(num1, num2):\n",
        "  print(i);"
      ]
    },
    {
      "cell_type": "markdown",
      "source": [
        "Questão 2"
      ],
      "metadata": {
        "id": "AnI16mVQPPMo"
      }
    },
    {
      "cell_type": "code",
      "source": [
        "num = int(input(\"Digite um número para fazer a tabuada: \"))\n",
        "for i in range(1, 11):\n",
        "  print(f\"{num}*{i} = {num*i}\")"
      ],
      "metadata": {
        "colab": {
          "base_uri": "https://localhost:8080/"
        },
        "id": "fhIfIX-OPSFf",
        "outputId": "24c8ef8e-51f3-4a76-dde2-5b19bf3e548c"
      },
      "execution_count": 4,
      "outputs": [
        {
          "output_type": "stream",
          "name": "stdout",
          "text": [
            "Digite um número para fazer a tabuada: 10\n",
            "10*1 = 10\n",
            "10*2 = 20\n",
            "10*3 = 30\n",
            "10*4 = 40\n",
            "10*5 = 50\n",
            "10*6 = 60\n",
            "10*7 = 70\n",
            "10*8 = 80\n",
            "10*9 = 90\n",
            "10*10 = 100\n"
          ]
        }
      ]
    },
    {
      "cell_type": "markdown",
      "source": [
        "Questão 3"
      ],
      "metadata": {
        "id": "BETFBCqkPxdu"
      }
    },
    {
      "cell_type": "code",
      "source": [
        "for i in range(100, 201):\n",
        "  if(i % 2 == 1):\n",
        "    print(i)"
      ],
      "metadata": {
        "colab": {
          "base_uri": "https://localhost:8080/"
        },
        "id": "2Ct9C7rwPy1G",
        "outputId": "53bc4506-8fd2-4128-b4b9-bab4a3f46bff"
      },
      "execution_count": 5,
      "outputs": [
        {
          "output_type": "stream",
          "name": "stdout",
          "text": [
            "101\n",
            "103\n",
            "105\n",
            "107\n",
            "109\n",
            "111\n",
            "113\n",
            "115\n",
            "117\n",
            "119\n",
            "121\n",
            "123\n",
            "125\n",
            "127\n",
            "129\n",
            "131\n",
            "133\n",
            "135\n",
            "137\n",
            "139\n",
            "141\n",
            "143\n",
            "145\n",
            "147\n",
            "149\n",
            "151\n",
            "153\n",
            "155\n",
            "157\n",
            "159\n",
            "161\n",
            "163\n",
            "165\n",
            "167\n",
            "169\n",
            "171\n",
            "173\n",
            "175\n",
            "177\n",
            "179\n",
            "181\n",
            "183\n",
            "185\n",
            "187\n",
            "189\n",
            "191\n",
            "193\n",
            "195\n",
            "197\n",
            "199\n"
          ]
        }
      ]
    },
    {
      "cell_type": "markdown",
      "source": [
        "Questão 4"
      ],
      "metadata": {
        "id": "vF1jCZWFQAfu"
      }
    },
    {
      "cell_type": "code",
      "source": [
        "falhas = 3\n",
        "\n",
        "while True:\n",
        "  senha = \"12345\"\n",
        "  cod = \"54321\"\n",
        "  codigo = input(\"Digite seu código da conta: \")\n",
        "  password = input(\"Digite sua senha: \")\n",
        "  if(codigo == cod and password == senha):\n",
        "    print(\"Você entrou na sua conta\")\n",
        "    banco();\n",
        "  elif(falhas <= 1):\n",
        "    print(\"Você não possui mais nenhuma tentativa\")\n",
        "    break;\n",
        "  else:\n",
        "    falhas -= 1\n",
        "    print(f\"Você ainda possui {falhas} tentativas\")\n",
        "\n",
        "\n",
        "\n"
      ],
      "metadata": {
        "colab": {
          "base_uri": "https://localhost:8080/",
          "height": 582
        },
        "id": "9JpciH3mQCeP",
        "outputId": "029752ee-ff7b-4182-942e-0aca28dfb7b7"
      },
      "execution_count": 26,
      "outputs": [
        {
          "output_type": "stream",
          "name": "stdout",
          "text": [
            "Digite seu código da conta: 54321\n",
            "Digite sua senha: 12345\n",
            "Você entrou na sua conta\n",
            "Escolha uma ação: Para saque digite 1, depósito digite 2, e para visualizar o saldo, digite 31\n",
            "Digite o valor do saque: 10\n",
            "Escolha uma ação: Para saque digite 1, depósito digite 2, e para visualizar o saldo, digite 33\n",
            "Seu saldo é de R$90\n",
            "Escolha uma ação: Para saque digite 1, depósito digite 2, e para visualizar o saldo, digite 32\n",
            "Digite o valor do depósito: 100001\n",
            "Escolha uma ação: Para saque digite 1, depósito digite 2, e para visualizar o saldo, digite 33\n",
            "Seu saldo é de R$100091\n"
          ]
        },
        {
          "output_type": "error",
          "ename": "KeyboardInterrupt",
          "evalue": "ignored",
          "traceback": [
            "\u001b[0;31m---------------------------------------------------------------------------\u001b[0m",
            "\u001b[0;31mKeyboardInterrupt\u001b[0m                         Traceback (most recent call last)",
            "\u001b[0;32m<ipython-input-26-aff323f1cae5>\u001b[0m in \u001b[0;36m<cell line: 3>\u001b[0;34m()\u001b[0m\n\u001b[1;32m      8\u001b[0m   \u001b[0;32mif\u001b[0m\u001b[0;34m(\u001b[0m\u001b[0mcodigo\u001b[0m \u001b[0;34m==\u001b[0m \u001b[0mcod\u001b[0m \u001b[0;32mand\u001b[0m \u001b[0mpassword\u001b[0m \u001b[0;34m==\u001b[0m \u001b[0msenha\u001b[0m\u001b[0;34m)\u001b[0m\u001b[0;34m:\u001b[0m\u001b[0;34m\u001b[0m\u001b[0;34m\u001b[0m\u001b[0m\n\u001b[1;32m      9\u001b[0m     \u001b[0mprint\u001b[0m\u001b[0;34m(\u001b[0m\u001b[0;34m\"Você entrou na sua conta\"\u001b[0m\u001b[0;34m)\u001b[0m\u001b[0;34m\u001b[0m\u001b[0;34m\u001b[0m\u001b[0m\n\u001b[0;32m---> 10\u001b[0;31m     \u001b[0mbanco\u001b[0m\u001b[0;34m(\u001b[0m\u001b[0;34m)\u001b[0m\u001b[0;34m;\u001b[0m\u001b[0;34m\u001b[0m\u001b[0;34m\u001b[0m\u001b[0m\n\u001b[0m\u001b[1;32m     11\u001b[0m   \u001b[0;32melif\u001b[0m\u001b[0;34m(\u001b[0m\u001b[0mfalhas\u001b[0m \u001b[0;34m<=\u001b[0m \u001b[0;36m1\u001b[0m\u001b[0;34m)\u001b[0m\u001b[0;34m:\u001b[0m\u001b[0;34m\u001b[0m\u001b[0;34m\u001b[0m\u001b[0m\n\u001b[1;32m     12\u001b[0m     \u001b[0mprint\u001b[0m\u001b[0;34m(\u001b[0m\u001b[0;34m\"Você não possui mais nenhuma tentativa\"\u001b[0m\u001b[0;34m)\u001b[0m\u001b[0;34m\u001b[0m\u001b[0;34m\u001b[0m\u001b[0m\n",
            "\u001b[0;32m<ipython-input-24-51a15ab4fa64>\u001b[0m in \u001b[0;36mbanco\u001b[0;34m()\u001b[0m\n\u001b[1;32m      2\u001b[0m   \u001b[0msaldo\u001b[0m \u001b[0;34m=\u001b[0m \u001b[0;36m100\u001b[0m\u001b[0;34m\u001b[0m\u001b[0;34m\u001b[0m\u001b[0m\n\u001b[1;32m      3\u001b[0m   \u001b[0;32mwhile\u001b[0m \u001b[0;32mTrue\u001b[0m\u001b[0;34m:\u001b[0m\u001b[0;34m\u001b[0m\u001b[0;34m\u001b[0m\u001b[0m\n\u001b[0;32m----> 4\u001b[0;31m     \u001b[0minp\u001b[0m \u001b[0;34m=\u001b[0m \u001b[0minput\u001b[0m\u001b[0;34m(\u001b[0m\u001b[0;34m\"Escolha uma ação: Para saque digite 1, depósito digite 2, e para visualizar o saldo, digite 3\"\u001b[0m\u001b[0;34m)\u001b[0m\u001b[0;34m\u001b[0m\u001b[0;34m\u001b[0m\u001b[0m\n\u001b[0m\u001b[1;32m      5\u001b[0m     \u001b[0;32mif\u001b[0m \u001b[0minp\u001b[0m \u001b[0;34m==\u001b[0m \u001b[0;34m\"1\"\u001b[0m\u001b[0;34m:\u001b[0m\u001b[0;34m\u001b[0m\u001b[0;34m\u001b[0m\u001b[0m\n\u001b[1;32m      6\u001b[0m       \u001b[0msaque\u001b[0m \u001b[0;34m=\u001b[0m \u001b[0mint\u001b[0m\u001b[0;34m(\u001b[0m\u001b[0minput\u001b[0m\u001b[0;34m(\u001b[0m\u001b[0;34m\"Digite o valor do saque: \"\u001b[0m\u001b[0;34m)\u001b[0m\u001b[0;34m)\u001b[0m\u001b[0;34m\u001b[0m\u001b[0;34m\u001b[0m\u001b[0m\n",
            "\u001b[0;32m/usr/local/lib/python3.10/dist-packages/ipykernel/kernelbase.py\u001b[0m in \u001b[0;36mraw_input\u001b[0;34m(self, prompt)\u001b[0m\n\u001b[1;32m    849\u001b[0m                 \u001b[0;34m\"raw_input was called, but this frontend does not support input requests.\"\u001b[0m\u001b[0;34m\u001b[0m\u001b[0;34m\u001b[0m\u001b[0m\n\u001b[1;32m    850\u001b[0m             )\n\u001b[0;32m--> 851\u001b[0;31m         return self._input_request(str(prompt),\n\u001b[0m\u001b[1;32m    852\u001b[0m             \u001b[0mself\u001b[0m\u001b[0;34m.\u001b[0m\u001b[0m_parent_ident\u001b[0m\u001b[0;34m,\u001b[0m\u001b[0;34m\u001b[0m\u001b[0;34m\u001b[0m\u001b[0m\n\u001b[1;32m    853\u001b[0m             \u001b[0mself\u001b[0m\u001b[0;34m.\u001b[0m\u001b[0m_parent_header\u001b[0m\u001b[0;34m,\u001b[0m\u001b[0;34m\u001b[0m\u001b[0;34m\u001b[0m\u001b[0m\n",
            "\u001b[0;32m/usr/local/lib/python3.10/dist-packages/ipykernel/kernelbase.py\u001b[0m in \u001b[0;36m_input_request\u001b[0;34m(self, prompt, ident, parent, password)\u001b[0m\n\u001b[1;32m    893\u001b[0m             \u001b[0;32mexcept\u001b[0m \u001b[0mKeyboardInterrupt\u001b[0m\u001b[0;34m:\u001b[0m\u001b[0;34m\u001b[0m\u001b[0;34m\u001b[0m\u001b[0m\n\u001b[1;32m    894\u001b[0m                 \u001b[0;31m# re-raise KeyboardInterrupt, to truncate traceback\u001b[0m\u001b[0;34m\u001b[0m\u001b[0;34m\u001b[0m\u001b[0m\n\u001b[0;32m--> 895\u001b[0;31m                 \u001b[0;32mraise\u001b[0m \u001b[0mKeyboardInterrupt\u001b[0m\u001b[0;34m(\u001b[0m\u001b[0;34m\"Interrupted by user\"\u001b[0m\u001b[0;34m)\u001b[0m \u001b[0;32mfrom\u001b[0m \u001b[0;32mNone\u001b[0m\u001b[0;34m\u001b[0m\u001b[0;34m\u001b[0m\u001b[0m\n\u001b[0m\u001b[1;32m    896\u001b[0m             \u001b[0;32mexcept\u001b[0m \u001b[0mException\u001b[0m \u001b[0;32mas\u001b[0m \u001b[0me\u001b[0m\u001b[0;34m:\u001b[0m\u001b[0;34m\u001b[0m\u001b[0;34m\u001b[0m\u001b[0m\n\u001b[1;32m    897\u001b[0m                 \u001b[0mself\u001b[0m\u001b[0;34m.\u001b[0m\u001b[0mlog\u001b[0m\u001b[0;34m.\u001b[0m\u001b[0mwarning\u001b[0m\u001b[0;34m(\u001b[0m\u001b[0;34m\"Invalid Message:\"\u001b[0m\u001b[0;34m,\u001b[0m \u001b[0mexc_info\u001b[0m\u001b[0;34m=\u001b[0m\u001b[0;32mTrue\u001b[0m\u001b[0;34m)\u001b[0m\u001b[0;34m\u001b[0m\u001b[0;34m\u001b[0m\u001b[0m\n",
            "\u001b[0;31mKeyboardInterrupt\u001b[0m: Interrupted by user"
          ]
        }
      ]
    },
    {
      "cell_type": "markdown",
      "source": [
        "Questão 5"
      ],
      "metadata": {
        "id": "aTrIL0boUw2k"
      }
    },
    {
      "cell_type": "code",
      "source": [
        "def banco():\n",
        "  saldo = 100\n",
        "  while True:\n",
        "    inp = input(\"Escolha uma ação: Para saque digite 1, depósito digite 2, e para visualizar o saldo, digite 3\")\n",
        "    if inp == \"1\":\n",
        "      saque = int(input(\"Digite o valor do saque: \"))\n",
        "      saldo -= saque;\n",
        "    elif inp == \"2\":\n",
        "      dep = int(input(\"Digite o valor do depósito: \"))\n",
        "      saldo += dep;\n",
        "    elif inp == \"3\":\n",
        "      print(f\"Seu saldo é de R${saldo}\")\n",
        "    else:\n",
        "      print(\"Digite uma das opções acima\")\n",
        "\n",
        ""
      ],
      "metadata": {
        "id": "yPG7AX4aU43S"
      },
      "execution_count": 24,
      "outputs": []
    },
    {
      "cell_type": "markdown",
      "source": [
        "Questão 6\n"
      ],
      "metadata": {
        "id": "7ZJpWzrjXYqf"
      }
    },
    {
      "cell_type": "code",
      "source": [
        "while True:\n",
        "  UserInput = input(\"Escolha se deseja fazer mais uma lista ou parar, para continuar digite 1, para parar, digite 0\")\n",
        "  if(UserInput == \"1\"):\n",
        "    string = input(\"Digite a lista com cada número espaçado\")\n",
        "    lista = []\n",
        "    string = string.split()\n",
        "    for i in string:\n",
        "      lista.append(int(i))\n",
        "    print(f\"O menor número da lista é o {min(lista)}\")\n",
        "    print(f\"O maior número da lista é o {max(lista)}\")\n",
        "  elif(UserInput ==\"0\"):\n",
        "    break;\n",
        "  else:\n",
        "    print(\"Digite uma opção válida\")\n",
        ""
      ],
      "metadata": {
        "colab": {
          "base_uri": "https://localhost:8080/"
        },
        "id": "gjQXwX25Xax3",
        "outputId": "a4b98831-601b-4081-f24f-8f74deca2357"
      },
      "execution_count": 30,
      "outputs": [
        {
          "name": "stdout",
          "output_type": "stream",
          "text": [
            "Escolha se deseja fazer mais uma lista ou parar, para continuar digite 1, para parar, digite 01\n",
            "Digite a lista com cada número espaçado1 2 3 4 5\n",
            "O menor número da lista é o 1\n",
            "O maior número da lista é o 5\n",
            "Escolha se deseja fazer mais uma lista ou parar, para continuar digite 1, para parar, digite 00\n"
          ]
        }
      ]
    }
  ]
}